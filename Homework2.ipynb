{
  "nbformat": 4,
  "nbformat_minor": 0,
  "metadata": {
    "coursera": {
      "course_slug": "neural-networks-deep-learning",
      "graded_item_id": "XaIWT",
      "launcher_item_id": "zAgPl"
    },
    "kernelspec": {
      "display_name": "Python 3",
      "language": "python",
      "name": "python3"
    },
    "language_info": {
      "codemirror_mode": {
        "name": "ipython",
        "version": 3
      },
      "file_extension": ".py",
      "mimetype": "text/x-python",
      "name": "python",
      "nbconvert_exporter": "python",
      "pygments_lexer": "ipython3",
      "version": "3.8.5"
    },
    "colab": {
      "name": "Homework_02.ipynb",
      "provenance": [],
      "collapsed_sections": [],
      "include_colab_link": true
    }
  },
  "cells": [
    {
      "cell_type": "markdown",
      "metadata": {
        "id": "view-in-github",
        "colab_type": "text"
      },
      "source": [
        "<a href=\"https://colab.research.google.com/github/bdstel/Artificial-Intelligence/blob/main/Homework2.ipynb\" target=\"_parent\"><img src=\"https://colab.research.google.com/assets/colab-badge.svg\" alt=\"Open In Colab\"/></a>"
      ]
    },
    {
      "cell_type": "markdown",
      "metadata": {
        "id": "t7kavnGK7hDa"
      },
      "source": [
        "# Logistic Regression Homework\n",
        "\n",
        "This is the 2nd assignment for CAP 4630 and we will implement logistic regression and apply it to two\n",
        "different datasets. \\\n",
        "You will use **\"Tasks\"** and **\"Hints\"** to finish the work. **(Total 100 Points)** \\\n",
        "You are **not** allowed to use Machine Learning libaries such as Scikit-learn and Keras.\n",
        "\n",
        "**Task Overview:**\n",
        "- Logistic Regression "
      ]
    },
    {
      "cell_type": "markdown",
      "metadata": {
        "id": "hSPEXNb07hDc"
      },
      "source": [
        "## 1 - Logistic Regression ##\n",
        "### 1.1 Packages\n",
        "\n",
        "Import useful packages for scientific computing and data processing. \n",
        "\n",
        "**Tasks:**\n",
        "1. Import numpy and rename it to np.\n",
        "2. Import pandas and rename it to pd.\n",
        "3. Import the pyplot function in the libraray of matplotlib and rename it to plt.\n",
        "\n",
        "References:\n",
        "- [numpy](www.numpy.org) is the fundamental package for scientific computing with Python.\n",
        "- [matplotlib](http://matplotlib.org) is a famous library to plot graphs in Python.\n",
        "\n",
        "**Attention:**\n",
        "1. After this renaming, you will use the new name to call functions. For example, **numpy** will become **np** in the following sections."
      ]
    },
    {
      "cell_type": "code",
      "metadata": {
        "id": "-bXGRBTn7hDd"
      },
      "source": [
        "# Import and rename libraries here\n",
        "import numpy as np\n",
        "import pandas as pd\n",
        "import matplotlib.pyplot as plt"
      ],
      "execution_count": null,
      "outputs": []
    },
    {
      "cell_type": "markdown",
      "metadata": {
        "collapsed": true,
        "id": "JDVcb0C27hDf"
      },
      "source": [
        "### 1.2 - Data Preparation ##\n",
        "\n",
        "Prepare the data for regression task. **(20 Points)**\n",
        "\n",
        "**Tasks:**\n",
        "1. Load data for logistic regression.\n",
        "2. **Generate the SCATTER PLOT of the data**.\n",
        "\n",
        "**Hints:**\n",
        "1. The data file is \"data_logistic.csv\", which are exam scores for students.\n",
        "2. The data is organized by column: x1 (exam 1 score), x2 (exam 2 score), and label y (pass 1 or fail 0).\n",
        "3. Please use different colors for postive(label=1) and negative(label=0) data.\n",
        "4. An example of scatter plots is shown below.\n",
        "\n",
        "![](https://drive.google.com/uc?export=view&id=1CPv5s4W8SkUMa_sXCIz-NejSnFj-e1IH)"
      ]
    },
    {
      "cell_type": "code",
      "metadata": {
        "colab": {
          "base_uri": "https://localhost:8080/",
          "height": 265
        },
        "id": "8IG_Efd_7hDf",
        "outputId": "d598b8d6-58ab-4c2a-c93b-c8d7787d5b64"
      },
      "source": [
        "# Preprocess input data and generate plots\n",
        "data = pd.read_csv('/content/data_logistic.csv')\n",
        "\n",
        "X1 = data.iloc[:, 0]\n",
        "X2 = data.iloc[:, 1]\n",
        "y = data.iloc[:, 2]\n",
        "\n",
        "plt.scatter(X1, X2, c=y)\n",
        "plt.show()"
      ],
      "execution_count": null,
      "outputs": [
        {
          "output_type": "display_data",
          "data": {
            "image/png": "[encoded data removed]",
            "text/plain": [
              "<Figure size 432x288 with 1 Axes>"
            ]
          },
          "metadata": {
            "needs_background": "light"
          }
        }
      ]
    },
    {
      "cell_type": "markdown",
      "metadata": {
        "id": "nvIN_UPA7hDf"
      },
      "source": [
        "### 1.3 - Sigmoid function ##\n",
        "\n",
        "\n",
        "Implement sigmoid function so it can be called by the rest of your program. **(20 Points)**\n",
        "\n",
        "**Tasks:**\n",
        "1. Implement the sigmoid function (**def sigmoid(z):**). \n",
        "2. Test the sigmoid function by function **plotting** with test data (X, Y) where Y = sigmoid(X). \n",
        "\n",
        "**Hints:**  \n",
        "1. Given the class material, sigmoid function is defined as:\n",
        "$g(z) = \\frac{1}{1+e^{-z}}$.\n",
        "2. You may consider X = np.linspace(-5, 5, 1000) to plot the curve.\n",
        "3. Plot Y against X.\n",
        "4. An example of plot for validation is shown below:\n",
        "\n",
        "![](https://drive.google.com/uc?export=view&id=18j5oHdw78uVm2WwHsdIb4hwhpXDxR37S)"
      ]
    },
    {
      "cell_type": "code",
      "metadata": {
        "id": "l6IibsTL7hDg"
      },
      "source": [
        "# Implement sigmoid fuction here\n",
        "def sigmoid(z):\n",
        "  return 1/(1+(np.exp(-z)))"
      ],
      "execution_count": null,
      "outputs": []
    },
    {
      "cell_type": "code",
      "metadata": {
        "colab": {
          "base_uri": "https://localhost:8080/",
          "height": 265
        },
        "id": "DZhmukE27hDg",
        "outputId": "acb7a6f8-2203-4ae7-fb0d-1f60f337c9e5"
      },
      "source": [
        "# Plot data here\n",
        "X = np.linspace(-5, 5, 1000)\n",
        "Y = sigmoid(X)\n",
        "\n",
        "plt.plot(X, Y)\n",
        "plt.show()"
      ],
      "execution_count": null,
      "outputs": [
        {
          "output_type": "display_data",
          "data": {
            "image/png": "[encoded data removed]",
            "text/plain": [
              "<Figure size 432x288 with 1 Axes>"
            ]
          },
          "metadata": {
            "needs_background": "light"
          }
        }
      ]
    },
    {
      "cell_type": "markdown",
      "metadata": {
        "id": "n_KByYZo7hDh"
      },
      "source": [
        "### 1.4 - Cost function and gradient ##\n",
        "\n",
        "Implement the cross entropy cost function and its gradient for logistic regression. **(30 Points)**\n",
        "\n",
        "**Tasks:**\n",
        "1. Implement the \"cal_cost\" to compute the cost.\n",
        "2. Implement the \"cal_grad\" to compute the gradients.\n",
        "3. Test \"cal_cost\" and \"cal_grad\" with initial values and print out the results.\n",
        "\n",
        "**Hint:**\n",
        "1. The cross entropy cost function (J(θ)) in logistic regression is shown below. It involves two terms, including ylog(h) and (1-y)log(1-h) where h is the function of x.\n",
        "\n",
        "![](https://drive.google.com/uc?export=view&id=1xLhlPFI4wekwuA7lFm7ebRVt0XBZk3e7)\n",
        "\n",
        "2. The gradient of the cost J(θ) is a vector of the same length as θ where the $j$th element (for $j = 0, 1, . . . , n)$ is defined below. You may do a hand calculation to justify the first order derivative with the term above.\n",
        "\n",
        "![](https://drive.google.com/uc?export=view&id=1xfA0A0xyRv2L5JZIdedAmEZxZ3DwpOCF)\n",
        "\n",
        "3. When you implement J(θ), please use eps = 1e-15 to prevent possible \"divide by 0 exception\" in second term. You may think about the reason.\n",
        "4. You may consider the below templates for two functions:\n",
        "\n",
        "    def cal_cost(theta, X, y):\n",
        " \n",
        "        htheta = ...\n",
        "        term1 = ...  /* matrix_multiplication(log(htheta), y)\n",
        "        term2 = ...  /* matrix_multiplication(log(1-htheta+eps), (1-y))\n",
        "        J = - 1 / m * (term1 + term2) \n",
        "        \n",
        "        return cost\n",
        "        \n",
        "    \n",
        "    def cal_grad(theta, X, y):\n",
        "        \n",
        "        htheta = ...\n",
        "        term1 = ... /* matrix_multiplication(transpose(X), (htheta - y))  //you may think about why transpose(x)\n",
        "        grad = 1 / m * term1 \n",
        "    \n",
        "        return grad\n",
        "5. It involves matrix multiplication and you may consider the function of np.matmul or np.dot.   \n",
        "        \n",
        "6. Initialize the intercept term (constant term) with **ones** and the theta with **zeros**. Test the functions with these initial values. \\\n",
        "    **Expected outputs:**\\\n",
        "    Cost at initial theta : 0.6931471805599445\\\n",
        "    Gradient at inital theta : [-0.1        -10.91242026 -11.73652937]\n"
      ]
    },
    {
      "cell_type": "code",
      "metadata": {
        "colab": {
          "base_uri": "https://localhost:8080/"
        },
        "id": "aa1zxHRx7hDi",
        "outputId": "03498806-221e-4fe9-8f87-019e0e9dec8e"
      },
      "source": [
        "# Implement the cost function here\n",
        "def cal_cost(theta, X, y):\n",
        "\n",
        "  htheta = sigmoid(np.dot(X, theta))\n",
        "  term1 = np.dot(np.log(htheta), y)\n",
        "  term2 = np.dot(np.log(1-htheta+(1e-15)), (1-y))\n",
        "  J = - 1 / m * (term1 + term2)\n",
        "\n",
        "  return J\n",
        "\n",
        "def cal_grad(theta, X, y):\n",
        "\n",
        "  htheta = sigmoid(np.dot(X, theta))\n",
        "  term1 = np.dot(np.transpose(X), (htheta-y))\n",
        "  grad = 1 / m * term1\n",
        "\n",
        "  return grad\n",
        "\n",
        "m = len(X1)\n",
        "theta = [0, 0, 0]\n",
        "X = [np.ones(m), np.array(X1), np.array(X2)]\n",
        "X = np.transpose(X)\n",
        "\n",
        "print('Cost at initial theta: ', cal_cost(theta, X, y))\n",
        "print('Gradient at initial theta: ', cal_grad(theta, X, y))"
      ],
      "execution_count": null,
      "outputs": [
        {
          "output_type": "stream",
          "name": "stdout",
          "text": [
            "Cost at initial theta:  0.6931471805599445\n",
            "Gradient at initial theta:  [ -0.1        -10.91242026 -11.73652937]\n"
          ]
        }
      ]
    },
    {
      "cell_type": "markdown",
      "metadata": {
        "id": "AY1YSPoC7hDj"
      },
      "source": [
        "## 1.5 Train parameters with Gradient Descent ##\n",
        "\n",
        "\n",
        "Train parameters using Gradient Descent. **(15 Points)**\n",
        "\n",
        "**Tasks:**\n",
        "1. Calculate best fit theta by Gradient Descent with learning rate of **0.001 (1e-3)** and epoch of **80K**. The initial theta from above blocks is used as initial values.\n",
        "2. Print out the best theta (the last one is considered as the best here) and its corresponding cost.\n",
        "3. **Plot the decision boundary**.\n",
        "\n",
        "**Hints:**\n",
        "1. You may take gradient descent in homework 1 as an template.\n",
        "2. Derive the boundary line from **sigmoid(theta[0]+ X1 * theta[1] + X2* theta[2])=0.5**. Think about why we get the line by setting **the activated probability to 0.5**. Also, try to calculate the final relationship between X1 and X2. When sigmoid(X) = 0.5, what is the value of x? Check the generated plot in 1.3.\n",
        "3. The validation of first 5 epochs (updated theta and cost): \\\n",
        "------Epoch 0------\\\n",
        "Theta: [0.0001     0.01091242 0.01173653]\\\n",
        "Cost: 0.6996118077359638\\\n",
        "------Epoch 1------\\\n",
        "Theta: [-0.0001129   0.00053949  0.00229352]\\\n",
        "Cost: 0.6649331468590681\\\n",
        "------Epoch 2------\\\n",
        "Theta: [-5.93604956e-05  8.33145873e-03  1.07754324e-02]\\\n",
        "Cost: 0.6679914364992459\\\n",
        "------Epoch 3------\\\n",
        "Theta: [-0.0002356   0.0004607   0.00370829]\\\n",
        "Cost: 0.6545873034874964\\\n",
        "------Epoch 4------\\\n",
        "Theta: [-0.00020363  0.00683227  0.01065138]\\\n",
        "Cost: 0.6563302142684528\n",
        "4. You may take the plots below as an exmample: \n",
        "\n",
        "![](https://drive.google.com/uc?export=view&id=1xLg9LrIF888gGXj3zRAG9iJLsyAmgPQg)\n",
        "\n",
        "5. It may take ~1 min to finish running."
      ]
    },
    {
      "cell_type": "code",
      "metadata": {
        "id": "QVzsHaq_7hDk",
        "colab": {
          "base_uri": "https://localhost:8080/"
        },
        "outputId": "76989a14-68da-4359-e09d-28c4822de6e2"
      },
      "source": [
        "# Gradient Descent Implementation Here\n",
        "L = 0.001\n",
        "epochs = 80000\n",
        "\n",
        "for i in range(epochs):\n",
        "  Y_pred = sigmoid(theta[0] + X1*theta[1] + X2*theta[2])\n",
        "\n",
        "  D_T0 = (-1/m) * sum(y - Y_pred)\n",
        "  D_T1 = (-1/m) * sum(X1 * (y - Y_pred))\n",
        "  D_T2 = (-1/m) * sum(X2 * (y - Y_pred))\n",
        "\n",
        "  theta[0] = theta[0] - L * D_T0\n",
        "  theta[1] = theta[1] - L * D_T1\n",
        "  theta[2] = theta[2] - L * D_T2\n",
        "\n",
        "  #print('------Epoch ', i, '------')\n",
        "  #print('Theta: ', theta)\n",
        "  #print('Cost: ', cal_cost(theta, X, y))\n",
        "\n",
        "print('Theta: ', theta)\n",
        "print('Cost: ', cal_cost(theta, X, y))"
      ],
      "execution_count": null,
      "outputs": [
        {
          "output_type": "stream",
          "name": "stdout",
          "text": [
            "Theta:  [-3.8832977668227815, 0.029479866022945684, 0.03935447647250762]\n",
            "Cost:  0.43838894881827817\n"
          ]
        }
      ]
    },
    {
      "cell_type": "code",
      "metadata": {
        "id": "kW3hTLYd7hDk",
        "colab": {
          "base_uri": "https://localhost:8080/",
          "height": 265
        },
        "outputId": "311aef06-3b6f-4e6d-9ca9-64d3aa18ae39"
      },
      "source": [
        "# Draw Decision Boundary Here\n",
        "plt.scatter(X1, X2, c=y)\n",
        "plt.plot(X1, (-1*np.log(1) - theta[0] - X1*theta[1]) / theta[2])\n",
        "\n",
        "plt.show()"
      ],
      "execution_count": null,
      "outputs": [
        {
          "output_type": "display_data",
          "data": {
            "image/png": "[encoded data removed]",
            "text/plain": [
              "<Figure size 432x288 with 1 Axes>"
            ]
          },
          "metadata": {
            "needs_background": "light"
          }
        }
      ]
    },
    {
      "cell_type": "markdown",
      "metadata": {
        "id": "mRl-LYlt7hDk"
      },
      "source": [
        "\n",
        "### 1.6 Evaluating Logistic Regression\n",
        "\n",
        "Evaluate the model with given data. **(15 Points)**\n",
        "\n",
        "**Tasks:**\n",
        "1. Calculate the training accuracy and **PRINT IT OUT**.\n",
        "2. Evaluate the predicted probability of the learnt model with x1 = 56 and x2 = 32 and **PRINT IT OUT**.\n",
        "\n",
        "\n",
        "**Hints:**  \n",
        "1. Positive(prediction>0.5) and negative(prediction<=0.5). \n",
        "2. The prediction results are based on acceptance probability. Given the two exam scores, we expected the model yields either high probability of \"fail\" or low probability of \"pass\".\n",
        "3. Training accuracy should be around **85%**."
      ]
    },
    {
      "cell_type": "code",
      "metadata": {
        "id": "6jYVakBI7hDl",
        "colab": {
          "base_uri": "https://localhost:8080/"
        },
        "outputId": "3fa0f800-1786-4c9f-f6ba-a2120e2d81f8"
      },
      "source": [
        "# Evaluate the model\n",
        "Y_acc = np.round(Y_pred, 0)\n",
        "accuracy = sum([p == y for p, y in zip(Y_acc, y)]) / len(Y_acc)\n",
        "print('Accuracy: ', accuracy)\n",
        "\n",
        "y_predicted_prob = sigmoid(theta[0] + theta[1]*56 + theta[2]*32)\n",
        "predicted_prob = np.round(y_predicted_prob, 0)\n",
        "print('Predicted Probability: ', predicted_prob)"
      ],
      "execution_count": null,
      "outputs": [
        {
          "output_type": "stream",
          "name": "stdout",
          "text": [
            "Accuracy:  0.85\n",
            "Predicted Probability:  0.0\n"
          ]
        }
      ]
    }
  ]
}